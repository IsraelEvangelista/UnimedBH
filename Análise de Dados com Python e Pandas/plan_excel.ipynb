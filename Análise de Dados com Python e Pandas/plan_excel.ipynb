Trabalhando com Planilhas do Excel

[1]
1s
#Importando a biblioteca
import pandas as pd
[2]
1s
#Leitura dos arquivos
df1 = pd.read_excel("/content/Aracaju.xlsx")
df2 = pd.read_excel("/content/Fortaleza.xlsx")
df3 = pd.read_excel("/content/Natal.xlsx")
df4 = pd.read_excel("/content/Recife.xlsx")
df5 = pd.read_excel("/content/Salvador.xlsx")
[3]
0s
#Juntando todos os arquivos
df = pd.concat([df1, df2, df3, df3, df4, df5])
[4]
0s
#Exibindo as 5 primeiras linhas
df.head()

[5]
0s
#Exibindo as 5 últimas linhas
df.tail()

[7]
0s
#Verificando os tipos de dados de cada coluna
df.dtypes
Cidade            object
Data      datetime64[ns]
Vendas           float64
LojaID             int64
Qtde               int64
dtype: object
[8]
0s
#Alterando o tipo de dado da coluna LojaID
df["LojaID"] = df["LojaID"].astype("object")
[9]
0s
df.dtypes
Cidade            object
Data      datetime64[ns]
Vendas           float64
LojaID            object
Qtde               int64
dtype: object
[10]
0s
df.head
<bound method NDFrame.head of        Cidade       Data  Vendas LojaID  Qtde
0     Aracaju 2018-01-01  142.00   1520     1
1     Aracaju 2018-01-01   14.21   1522     6
2     Aracaju 2018-01-01   71.55   1520     1
3     Aracaju 2018-01-01    3.01   1521     7
4     Aracaju 2018-01-01   24.51   1522     8
..        ...        ...     ...    ...   ...
235  Salvador 2019-01-03   41.84   1034     1
236  Salvador 2019-01-03  126.29   1035     3
237  Salvador 2019-01-03   38.06   1036     3
238  Salvador 2019-01-03  139.64   1035     1
239  Salvador 2019-01-03  161.41   1037     3

[1134 rows x 5 columns]>
[11]
0s
df.head()

[12]
0s
#Consultando linhas com valores faltantes
df.isnull().sum()
Cidade    0
Data      0
Vendas    0
LojaID    0
Qtde      0
dtype: int64
[ ]
#Substituindo os valores nulos pela média
df["Vendas"].fillma(df["Vendas"].mean(), inplace=True)
[ ]
#Substituindo os valores nulos por zero
df["Vendas"].fillma(0, inplace=True)
[ ]
#Apagando as linhas com valores nulos
df.dropma(inplace=True)
[ ]
#Apagando as linhas com valores nulos com base apenas em 1 coluna
df.dropma(subset=["Vendas"], inplace=True)
[ ]
#Removendo linhas que estejam com valores faltantes em todas as colunas
df.dropma(how="all", inplace=True)
Criando Colunas Novas

[14]
0s
#Criando a coluna de receita
df["Receita"] = df["Vendas"].mul(df["Qtde"])
[15]
0s
df.head()

[16]
0s
df["Receita/Vendas"] = df["Receita"] / df["Vendas"]
[17]
0s
df.head()

[18]
0s
#Retornando a maior receita
df["Receita"].max()
3544.0
[19]
0s
#Retornando a menor receita
df["Receita"].min()
3.34
[20]
0s
#nlargest
df.nlargest(3, "Receita")

[22]
0s
#nsmallest
df.nsmallest(3, "Receita")

[25]
0s
#Agrupamento por cidade
df.groupby("Cidade")["Receita"].sum()
Cidade
Aracaju       48748.25
Fortaleza     37913.97
Natal        334455.04
Recife        51936.51
Salvador      40596.73
Name: Receita, dtype: float64
[26]
0s
#Ordenando o conjunto de dados
df.sort_values("Receita", ascending=False).head(10)

