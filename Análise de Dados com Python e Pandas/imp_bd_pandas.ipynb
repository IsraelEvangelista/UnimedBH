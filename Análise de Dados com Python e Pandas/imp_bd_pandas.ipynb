Python para análise de dados (Pandas)

[2]
0s
#Importando a biblioteca pandas
import pandas as pd
[20]
0s
df = pd.read_csv('/content/drive/MyDrive/Projetos/Cursos/Exemplo Pandas.csv', sep=";")
[21]
0s
#Visualizando as 5 primeiras linhas
df.head()

[26]
0s
df = df.rename(columns={"MATRICULA":"Matrícula", "Quantiadade":"Qtd. Itens"})
[28]
0s
df.head(10)

[29]
0s
#Número de linhas e colunas em nossa tabela
df.shape
(40, 6)
[30]
0s
#Nome das colunas
df.columns
Index(['Matrícula', 'Data do Pedido', 'Produto', 'Qtd. Itens', 'Status',
       'Data de Atendimento'],
      dtype='object')
[31]
0s
#Tipos de dados em cada coluna
df.dtypes
Matrícula               int64
Data do Pedido         object
Produto                object
Qtd. Itens              int64
Status                 object
Data de Atendimento    object
dtype: object
[32]
0s
#Últimas linhas da tabela
df.tail()

[33]
0s
#Dados estatisticos
df.describe()

[35]
0s
df["Produto"].unique()
array(['Impressora', 'Celular', 'Mouse', 'Bloco de nota', 'Mesa',
       'Grampeador', 'Tablet', 'Cadeira', 'Corretivo', 'Caneta',
       'Teclado', 'Caderno', 'Computador'], dtype=object)
[41]
0s
#loc é utilizado para efetuar filtros na base de dados
Impressora = df.loc[df["Produto"] == "Impressora" ]
Impressora.head()

[44]
0s
#Groupby (Similar ao SQL)
df.groupby("Produto")["Qtd. Itens"].nunique()
Produto
Bloco de nota    3
Cadeira          2
Caderno          3
Caneta           2
Celular          2
Computador       1
Corretivo        2
Grampeador       2
Impressora       4
Mesa             3
Mouse            4
Tablet           3
Teclado          2
Name: Qtd. Itens, dtype: int64
[45]
#Média por classe
df.groupby("Status")["Qtd. Itens"].mean()
Status
Atendido        2.352941
Em andamento    2.478261
Name: Qtd. Itens, dtype: float64
[46]
#Soma por classe
df.groupby("Produto")["Qtd. Itens"].sum()
Produto
Bloco de nota     9
Cadeira           7
Caderno           6
Caneta            7
Celular           7
Computador        1
Corretivo         5
Grampeador        7
Impressora       13
Mesa              9
Mouse            14
Tablet            9
Teclado           3
Name: Qtd. Itens, dtype: int64
[ ]
