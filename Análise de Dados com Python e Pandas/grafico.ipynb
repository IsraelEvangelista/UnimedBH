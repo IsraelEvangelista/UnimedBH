Visualização de Dados

[32]
0s
df["LojaID"].value_counts(ascending=False)
1036    166
1035    156
1037    142
1034     90
983      65
852      58
854      56
853      52
982      44
1522     41
1520     39
980      36
981      31
1005     30
1002     30
1523     29
1004     28
1521     21
1003     20
Name: LojaID, dtype: int64
[33]
0s
#Gráfico de barras
df["LojaID"].value_counts(ascending=False).plot.bar()

[34]
0s
#Gráfico d barras horizontais
df["LojaID"].value_counts(ascending=True).plot.barh();

[35]
0s
#Gráfico de Pizza
df.groupby(df["Data"].dt.year)["Receita"].sum().plot.pie()

[36]
0s
#Total vendas por cidade
df["Cidade"].value_counts()
Natal        480
Salvador     240
Fortaleza    142
Recife       142
Aracaju      130
Name: Cidade, dtype: int64
[37]
0s
#Adicionando um título e alterando o nome dos eixos
import matplotlib.pyplot as plt
df["Cidade"].value_counts().plot.bar(title="Total vendas por Cidade")
plt.xlabel("Cidade")
plt.ylabel("Total Vendas")

[38]
0s
#Alterando a cor
df["Cidade"].value_counts().plot.bar(title="Total vendas por Cidade", color="red")
plt.xlabel("Cidade")
plt.ylabel("Total Vendas")

[39]
0s
#Alterando estilo
plt.style.use("ggplot")
[40]
0s
df.groupby(df["mes_venda"])["Qtde"].sum().plot(title = "Total Produtos Vendidos x Mês")
plt.xlabel("Mês")
plt.ylabel("Total Produtos Vendidos")
plt.legend();

[41]
0s
df.groupby(df["mes_venda"])["Qtde"].sum()
mes_venda
1     2541
2      203
3      527
4       46
5       34
6       26
7       26
8        4
9       20
10      28
11       4
12       6
Name: Qtde, dtype: int64
[42]
0s
#Selecionando apenas as vendas de 2019
df_2019 = df[df["Ano_Venda"] == 2019]
[44]
1s
#Total produtos vendidos por mês
df_2019.groupby(df_2019["mes_venda"])["Qtde"].sum().plot(marker = "v")
plt.xlabel("Mês")
plt.ylabel("Total Produtos Vendidos");
plt.legend()

[45]
0s
#Hisograma
plt.hist(df["Qtde"], color="magenta");

[46]
0s
plt.scatter(x=df_2019["dia_venda"], y = df_2019["Receita"]);

[49]
0s
#Salvando em PNG
df_2019.groupby(df_2019["mes_venda"])["Qtde"].sum().plot(marker = "v")
plt.title("Quantidade de produtos vendidos x mês")
plt.xlabel("Mês")
plt.ylabel("Total Produtos Vendidos");
plt.legend()
plt.savefig("grafico QTDE x MES.png")
