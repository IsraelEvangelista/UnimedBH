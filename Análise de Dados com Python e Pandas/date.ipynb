Trabalhando com Datas

[27]
0s
#Transformando a coluna de data em tipo inteiro
df["Data"] = df["Data"].astype("int64")
/usr/local/lib/python3.7/dist-packages/ipykernel_launcher.py:2: FutureWarning: casting datetime64[ns] values to int64 with .astype(...) is deprecated and will raise in a future version. Use .view(...) instead.
  
[28]
0s
#Verificando o tipo de dado de cada coluna
df.dtypes
Cidade             object
Data                int64
Vendas            float64
LojaID             object
Qtde                int64
Receita           float64
Receita/Vendas    float64
dtype: object
[29]
0s
#Transformando coluna de data em data
df["Data"] = pd.to_datetime(df["Data"])
[30]
0s
#Agrupamento por ano
df.groupby(df["Data"].dt.year)["Receita"].sum()
Data
2018    189926.53
2019    323723.97
Name: Receita, dtype: float64
[31]
0s
#Criando uma nova coluna com o ano
df["Ano_Venda"] = df["Data"].dt.year
[32]
0s
df.sample(5)

[33]
0s
#Extraindo o mês e o dia
df["mes_venda"], df["dia_venda"] = (df["Data"].dt.month, df["Data"].dt.day)
[34]
0s
df.sample(5)

[35]
0s
#Retornando a data mais antiga
df["Data"].min()
Timestamp('2018-01-01 00:00:00')
[36]
0s
#Calculando a diferença de dias
df["diferença_dias"] = df["Data"] - df["Data"].min()
[37]
0s
df.sample(5)

[38]
0s
#Criando a coluna de trimestre
df["semestre_venda"] = df["Data"].dt.quarter
[39]
0s
df.sample(5)

[40]
0s
#Filtrando as vendas de 2019 do mês de março
vendas_marco_19 = df.loc[(df["Data"].dt.year == 2019) & (df["Data"].dt.month == 3)]
[41]
0s
vendas_marco_19

[ ]
